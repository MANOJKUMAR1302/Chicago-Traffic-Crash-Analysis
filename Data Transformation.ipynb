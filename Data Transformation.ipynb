{
	"metadata": {
		"colab": {
			"provenance": []
		},
		"kernelspec": {
			"name": "glue_pyspark",
			"display_name": "Glue PySpark",
			"language": "python"
		},
		"language_info": {
			"name": "Python_Glue_Session",
			"mimetype": "text/x-python",
			"codemirror_mode": {
				"name": "python",
				"version": 3
			},
			"pygments_lexer": "python3",
			"file_extension": ".py"
		}
	},
	"nbformat_minor": 4,
	"nbformat": 4,
	"cells": [
		{
			"cell_type": "code",
			"source": "import sys\nfrom awsglue.transforms import *\nfrom awsglue.utils import getResolvedOptions\nfrom pyspark.context import SparkContext\nfrom awsglue.context import GlueContext\nfrom awsglue.job import Job\n\nsc=SparkContext.getOrCreate()\nglueContext=GlueContext(sc)\nspark=glueContext.spark_session\njob=Job(glueContext)\n",
			"metadata": {
				"trusted": true,
				"tags": []
			},
			"execution_count": null,
			"outputs": []
		},
		{
			"cell_type": "code",
			"source": "vehicles_df_raw = glueContext.create_dynamic_frame.from_options(\n    connection_type='s3',\n    connection_options={\n        \"paths\": [\"s3://cloudprojectteam4/Traffic_Crashes_-_Vehicles.csv/\"]\n    },\n    format='csv',\n    format_options={\"withHeader\": True, \"optimizePerformance\": True}\n)\n",
			"metadata": {
				"trusted": true,
				"tags": []
			},
			"execution_count": 27,
			"outputs": [
				{
					"name": "stdout",
					"text": "\n",
					"output_type": "stream"
				}
			]
		},
		{
			"cell_type": "code",
			"source": "vehicles_df_raw.printSchema()",
			"metadata": {
				"trusted": true,
				"tags": []
			},
			"execution_count": 28,
			"outputs": [
				{
					"name": "stdout",
					"text": "root\n|-- CRASH_UNIT_ID: string\n|-- RD_NO: string\n|-- CRASH_DATE: string\n|-- UNIT_NO: string\n|-- UNIT_TYPE: string\n|-- NUM_PASSENGERS: string\n|-- VEHICLE_ID: string\n|-- CMRC_VEH_I: string\n|-- MAKE: string\n|-- MODEL: string\n|-- LIC_PLATE_STATE: string\n|-- VEHICLE_YEAR: string\n|-- VEHICLE_DEFECT: string\n|-- VEHICLE_TYPE: string\n|-- VEHICLE_USE: string\n|-- TRAVEL_DIRECTION: string\n|-- MANEUVER: string\n|-- TOWED_I: string\n|-- FIRE_I: string\n|-- OCCUPANT_CNT: string\n|-- EXCEED_SPEED_LIMIT_I: string\n|-- TOWED_BY: string\n|-- TOWED_TO: string\n|-- AREA_00_I: string\n|-- AREA_01_I: string\n|-- AREA_02_I: string\n|-- AREA_03_I: string\n|-- AREA_04_I: string\n|-- AREA_05_I: string\n|-- AREA_06_I: string\n|-- AREA_07_I: string\n|-- AREA_08_I: string\n|-- AREA_09_I: string\n|-- AREA_10_I: string\n|-- AREA_11_I: string\n|-- AREA_12_I: string\n|-- AREA_99_I: string\n|-- FIRST_CONTACT_POINT: string\n|-- CMV_ID: string\n|-- USDOT_NO: string\n|-- CCMC_NO: string\n|-- ILCC_NO: string\n|-- COMMERCIAL_SRC: string\n|-- GVWR: string\n|-- CARRIER_NAME: string\n|-- CARRIER_STATE: string\n|-- CARRIER_CITY: string\n|-- HAZMAT_PLACARDS_I: string\n|-- HAZMAT_NAME: string\n|-- UN_NO: string\n|-- HAZMAT_PRESENT_I: string\n|-- HAZMAT_REPORT_I: string\n|-- HAZMAT_REPORT_NO: string\n|-- MCS_REPORT_I: string\n|-- MCS_REPORT_NO: string\n|-- HAZMAT_VIO_CAUSE_CRASH_I: string\n|-- MCS_VIO_CAUSE_CRASH_I: string\n|-- IDOT_PERMIT_NO: string\n|-- WIDE_LOAD_I: string\n|-- TRAILER1_WIDTH: string\n|-- TRAILER2_WIDTH: string\n|-- TRAILER1_LENGTH: string\n|-- TRAILER2_LENGTH: string\n|-- TOTAL_VEHICLE_LENGTH: string\n|-- AXLE_CNT: string\n|-- VEHICLE_CONFIG: string\n|-- CARGO_BODY_TYPE: string\n|-- LOAD_TYPE: string\n|-- HAZMAT_OUT_OF_SERVICE_I: string\n|-- MCS_OUT_OF_SERVICE_I: string\n|-- HAZMAT_CLASS: string\n",
					"output_type": "stream"
				}
			]
		},
		{
			"cell_type": "code",
			"source": "crashes_df_raw = glueContext.create_dynamic_frame.from_options(\n    connection_type='s3',\n    connection_options={\n        \"paths\": [\"s3://cloudprojectteam4/Traffic_Crashes_-_Crashes.csv/\"]\n    },\n    format='csv',\n    format_options={\"withHeader\": True, \"optimizePerformance\": True}\n)\n",
			"metadata": {
				"trusted": true,
				"tags": []
			},
			"execution_count": 31,
			"outputs": [
				{
					"name": "stdout",
					"text": "\n",
					"output_type": "stream"
				}
			]
		},
		{
			"cell_type": "code",
			"source": "crashes_df_raw.printSchema()",
			"metadata": {
				"trusted": true,
				"tags": []
			},
			"execution_count": 32,
			"outputs": [
				{
					"name": "stdout",
					"text": "root\n|-- ﻿RD_NO: string\n|-- CRASH_DATE_EST_I: string\n|-- CRASH_DATE: string\n|-- POSTED_SPEED_LIMIT: string\n|-- TRAFFIC_CONTROL_DEVICE: string\n|-- DEVICE_CONDITION: string\n|-- WEATHER_CONDITION: string\n|-- LIGHTING_CONDITION: string\n|-- FIRST_CRASH_TYPE: string\n|-- TRAFFICWAY_TYPE: string\n|-- LANE_CNT: string\n|-- ALIGNMENT: string\n|-- ROADWAY_SURFACE_COND: string\n|-- ROAD_DEFECT: string\n|-- REPORT_TYPE: string\n|-- CRASH_TYPE: string\n|-- INTERSECTION_RELATED_I: string\n|-- NOT_RIGHT_OF_WAY_I: string\n|-- HIT_AND_RUN_I: string\n|-- DAMAGE: string\n|-- DATE_POLICE_NOTIFIED: string\n|-- PRIM_CONTRIBUTORY_CAUSE: string\n|-- SEC_CONTRIBUTORY_CAUSE: string\n|-- STREET_NO: string\n|-- STREET_DIRECTION: string\n|-- STREET_NAME: string\n|-- BEAT_OF_OCCURRENCE: string\n|-- PHOTOS_TAKEN_I: string\n|-- STATEMENTS_TAKEN_I: string\n|-- DOORING_I: string\n|-- WORK_ZONE_I: string\n|-- WORK_ZONE_TYPE: string\n|-- WORKERS_PRESENT_I: string\n|-- NUM_UNITS: string\n|-- MOST_SEVERE_INJURY: string\n|-- INJURIES_TOTAL: string\n|-- INJURIES_FATAL: string\n|-- INJURIES_INCAPACITATING: string\n|-- INJURIES_NON_INCAPACITATING: string\n|-- INJURIES_REPORTED_NOT_EVIDENT: string\n|-- INJURIES_NO_INDICATION: string\n|-- INJURIES_UNKNOWN: string\n|-- CRASH_HOUR: string\n|-- CRASH_DAY_OF_WEEK: string\n|-- CRASH_MONTH: string\n|-- LATITUDE: string\n|-- LONGITUDE: string\n|-- LOCATION: string\n",
					"output_type": "stream"
				}
			]
		},
		{
			"cell_type": "code",
			"source": "vehicles_df_spark = vehicles_df_raw.toDF()\n",
			"metadata": {
				"trusted": true,
				"tags": []
			},
			"execution_count": 50,
			"outputs": [
				{
					"name": "stdout",
					"text": "\n",
					"output_type": "stream"
				}
			]
		},
		{
			"cell_type": "code",
			"source": "import pandas as pd\n\ns3_file_path = \"s3://cloudprojectteam4/Traffic_Crashes_-_Vehicles.csv/\"\nvehicles_df = pd.read_csv(s3_file_path, usecols=['RD_NO', 'UNIT_TYPE', 'MAKE', 'MODEL', 'VEHICLE_YEAR'])\n",
			"metadata": {
				"trusted": true,
				"tags": []
			},
			"execution_count": 55,
			"outputs": [
				{
					"name": "stdout",
					"text": "\n",
					"output_type": "stream"
				}
			]
		},
		{
			"cell_type": "code",
			"source": "vehicles_df.head()",
			"metadata": {
				"trusted": true,
				"tags": []
			},
			"execution_count": 56,
			"outputs": [
				{
					"name": "stdout",
					"text": "      RD_NO UNIT_TYPE        MAKE          MODEL  VEHICLE_YEAR\n0  JB278428    DRIVER       DODGE        CHARGER        2008.0\n1  JB278428    PARKED     PONTIAC             G6        2005.0\n2  JB281663    DRIVER  VOLKSWAGEN          JETTA           NaN\n3  JB281663    DRIVER      NISSAN  NISSAN MAXIMA        2015.0\n4  JB283806    DRIVER     UNKNOWN        UNKNOWN           NaN\n",
					"output_type": "stream"
				}
			]
		},
		{
			"cell_type": "code",
			"source": "crashes_df_spark = crashes_df_raw.toDF()\n",
			"metadata": {
				"trusted": true,
				"tags": []
			},
			"execution_count": 57,
			"outputs": [
				{
					"name": "stdout",
					"text": "/opt/amazon/spark/python/lib/pyspark.zip/pyspark/sql/dataframe.py:127: UserWarning: DataFrame constructor is internal. Do not directly use it.\n  warnings.warn(\"DataFrame constructor is internal. Do not directly use it.\")\n",
					"output_type": "stream"
				}
			]
		},
		{
			"cell_type": "code",
			"source": "import pandas as pd\n\ns3_file_path = \"s3://cloudprojectteam4/Traffic_Crashes_-_Crashes.csv/\"\ncrashes_df = pd.read_csv(s3_file_path, usecols=['RD_NO', 'CRASH_DATE', 'POSTED_SPEED_LIMIT', 'TRAFFIC_CONTROL_DEVICE', 'DEVICE_CONDITION', 'WEATHER_CONDITION', 'LIGHTING_CONDITION', 'TRAFFICWAY_TYPE', 'ALIGNMENT', 'ROADWAY_SURFACE_COND', 'ROAD_DEFECT', 'CRASH_TYPE', 'DAMAGE', 'PRIM_CONTRIBUTORY_CAUSE', 'MOST_SEVERE_INJURY', 'CRASH_HOUR', 'CRASH_DAY_OF_WEEK', 'CRASH_MONTH', 'LATITUDE', 'LONGITUDE'])",
			"metadata": {
				"trusted": true,
				"tags": []
			},
			"execution_count": 58,
			"outputs": [
				{
					"name": "stdout",
					"text": "\n",
					"output_type": "stream"
				}
			]
		},
		{
			"cell_type": "code",
			"source": "crashes_df.head()",
			"metadata": {
				"trusted": true,
				"tags": []
			},
			"execution_count": 59,
			"outputs": [
				{
					"name": "stdout",
					"text": "      RD_NO              CRASH_DATE  ...   LATITUDE  LONGITUDE\n0  JC123097  01/19/2019 11:45:00 PM  ...  41.859566 -87.659525\n1  JC123084  01/19/2019 11:30:00 PM  ...  41.928335 -87.699915\n2  JC123076  01/19/2019 11:16:00 PM  ...  41.870048 -87.715673\n3  JC123075  01/19/2019 11:15:00 PM  ...  41.876569 -87.686450\n4  JC123050  01/19/2019 10:52:00 PM  ...  41.946837 -87.690697\n\n[5 rows x 20 columns]\n",
					"output_type": "stream"
				}
			]
		},
		{
			"cell_type": "code",
			"source": "# Merge the two datasets on the 'RD_NO' column\ntraffic_crashes_df = pd.merge(vehicles_df, crashes_df, on='RD_NO',how='inner')",
			"metadata": {
				"tags": [],
				"id": "e8v_5EH_6EqB",
				"trusted": true
			},
			"execution_count": 60,
			"outputs": [
				{
					"name": "stdout",
					"text": "\n",
					"output_type": "stream"
				}
			]
		},
		{
			"cell_type": "code",
			"source": "# Print the first five rows of Traffic_Crashes_Vehicles.csv dataset\nprint(traffic_crashes_df.head())",
			"metadata": {
				"tags": [],
				"colab": {
					"base_uri": "https://localhost:8080/"
				},
				"id": "mCx6oifA6VZk",
				"outputId": "b6daab81-a21a-44c9-f40a-5b35cf548285",
				"trusted": true
			},
			"execution_count": 61,
			"outputs": [
				{
					"name": "stdout",
					"text": "      RD_NO UNIT_TYPE        MAKE  ... CRASH_MONTH   LATITUDE  LONGITUDE\n0  JB278428    DRIVER       DODGE  ...           5  41.820475 -87.608080\n1  JB278428    PARKED     PONTIAC  ...           5  41.820475 -87.608080\n2  JB281663    DRIVER  VOLKSWAGEN  ...           5  41.968739 -87.672098\n3  JB281663    DRIVER      NISSAN  ...           5  41.968739 -87.672098\n4  JB283806    DRIVER     UNKNOWN  ...           5  41.736007 -87.645342\n\n[5 rows x 24 columns]\n",
					"output_type": "stream"
				}
			]
		},
		{
			"cell_type": "code",
			"source": "# Show the dimensions of the dataset\nprint(traffic_crashes_df.shape)",
			"metadata": {
				"tags": [],
				"colab": {
					"base_uri": "https://localhost:8080/"
				},
				"id": "E82BjFh672D_",
				"outputId": "31d8af74-ed51-4141-aa65-9d77612bf00d",
				"trusted": true
			},
			"execution_count": 62,
			"outputs": [
				{
					"name": "stdout",
					"text": "(527452, 24)\n",
					"output_type": "stream"
				}
			]
		},
		{
			"cell_type": "code",
			"source": "# Drop rows with null values\ntraffic_crashes_df = traffic_crashes_df.dropna()",
			"metadata": {
				"tags": [],
				"id": "zpbbzFKA78Va",
				"trusted": true
			},
			"execution_count": 63,
			"outputs": [
				{
					"name": "stdout",
					"text": "\n",
					"output_type": "stream"
				}
			]
		},
		{
			"cell_type": "code",
			"source": "# Show the dimensions of the dataset\nprint(traffic_crashes_df.shape)",
			"metadata": {
				"tags": [],
				"colab": {
					"base_uri": "https://localhost:8080/"
				},
				"id": "q3h_jvfH8K7P",
				"outputId": "5607482a-0490-492a-d290-3c21007b21ce",
				"trusted": true
			},
			"execution_count": 64,
			"outputs": [
				{
					"name": "stdout",
					"text": "(429986, 24)\n",
					"output_type": "stream"
				}
			]
		},
		{
			"cell_type": "code",
			"source": "# Drop duplicates\ntraffic_crashes_df = traffic_crashes_df.drop_duplicates()",
			"metadata": {
				"tags": [],
				"id": "MyZ3I3Bd8xt3",
				"trusted": true
			},
			"execution_count": 65,
			"outputs": [
				{
					"name": "stdout",
					"text": "\n",
					"output_type": "stream"
				}
			]
		},
		{
			"cell_type": "code",
			"source": "# Show the DataFrame\nprint(traffic_crashes_df.shape)",
			"metadata": {
				"tags": [],
				"colab": {
					"base_uri": "https://localhost:8080/"
				},
				"id": "1FsfXnBq81ti",
				"outputId": "b09fcd16-c43e-4cc4-be3e-59a4aea6fc38",
				"trusted": true
			},
			"execution_count": 66,
			"outputs": [
				{
					"name": "stdout",
					"text": "(429661, 24)\n",
					"output_type": "stream"
				}
			]
		},
		{
			"cell_type": "code",
			"source": "from pyspark.context import SparkContext\nfrom pyspark.sql import SparkSession\nfrom awsglue.context import GlueContext\n\n# Initialize Spark and Glue Contexts\nsc = SparkContext.getOrCreate()\nglueContext = GlueContext(sc)\nspark = SparkSession.builder.getOrCreate()\n\n# Convert Pandas DataFrame to Spark DataFrame (if needed)\n# spark_df = spark.createDataFrame(pandas_df)\n\n# Define the S3 output directory\noutput_dir = \"s3://cloudprojectteam4/Cleaned Data/\"\n\n# Write the DataFrame to the S3 bucket in CSV format\nspark_df.write.mode(\"overwrite\").option(\"header\", \"true\").csv(output_dir)\n",
			"metadata": {
				"trusted": true,
				"tags": []
			},
			"execution_count": 75,
			"outputs": [
				{
					"name": "stdout",
					"text": "\n",
					"output_type": "stream"
				}
			]
		},
		{
			"cell_type": "code",
			"source": "",
			"metadata": {},
			"execution_count": null,
			"outputs": []
		}
	]
}